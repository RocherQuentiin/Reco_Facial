{
 "cells": [
  {
   "cell_type": "markdown",
   "metadata": {},
   "source": [
    "## Librairies"
   ]
  },
  {
   "cell_type": "code",
   "execution_count": null,
   "metadata": {},
   "outputs": [],
   "source": [
    "\n",
    "import pickle\n",
    "import numpy as np\n",
    "import cv2\n",
    "from sklearn.linear_model import LogisticRegression\n",
    "from sklearn.tree import DecisionTreeClassifier\n",
    "from sklearn.neighbors import KNeighborsClassifier\n",
    "\n",
    "from algo_nn import ConvNetClassifier, DenseNetClassifier"
   ]
  },
  {
   "cell_type": "markdown",
   "metadata": {},
   "source": [
    "## Algorithme"
   ]
  },
  {
   "cell_type": "code",
   "execution_count": null,
   "metadata": {},
   "outputs": [],
   "source": [
    "with open('data/visages.pkl', 'rb') as fh:\n",
    "    visages = pickle.load(fh)\n",
    "\n",
    "with open('data/noms.pkl', 'rb') as fh:\n",
    "    noms = pickle.load(fh)\n",
    "\n",
    "print('Shape of visages matrix --> ', visages.shape)"
   ]
  },
  {
   "cell_type": "code",
   "execution_count": null,
   "metadata": {},
   "outputs": [],
   "source": [
    "# Attention, pour la régression logistique, les images doivent être applaties (flattened) en dimension 1\n",
    "N = len(noms)\n",
    "\n",
    "\n",
    "while True:\n",
    "    choix = input(\"Rentrer 1,2,3 ou 4 : \\n\" +\"1. algo de logistique regression\\n\" + \"2. algo d'abres de decision\\n\" + \"3. algo de k-NN \\n\" + \"4. Résaux de neuronne Dense\\n\" + \"5. réseaux de neurones convolutionnels\\n\" )\n",
    "    try:\n",
    "        choix = int(choix)\n",
    "    except ValueError:\n",
    "        print('Choix invalide !')\n",
    "    if 1 <= choix <= 4:\n",
    "        break\n",
    "    print('Choix invalide !')\n",
    "\n",
    "if choix <= 4:\n",
    "    visages = visages.reshape(N, -1)\n",
    "\n",
    "if choix == 1 :\n",
    "    algores = LogisticRegression(max_iter=1000)\n",
    "    algores.fit(visages, noms)\n",
    "    titre = \"Regression logistique\"\n",
    "      \n",
    "elif choix == 2 :\n",
    "    algores = DecisionTreeClassifier(random_state=0)\n",
    "    algores.fit(visages, noms)\n",
    "    titre = \"Arbres de decision\"\n",
    "    \n",
    "elif choix == 3 :\n",
    "    algores = KNeighborsClassifier(n_neighbors=4)\n",
    "    algores.fit(visages, noms)\n",
    "    titre = \"k-NN\"\n",
    "\n",
    "elif choix == 4:\n",
    "    algores = DenseNetClassifier(noms)\n",
    "    algores.fit(visages, noms)\n",
    "    titre = \"DenseNet\"\n",
    "\n",
    "elif choix == 5:\n",
    "    algores = ConvNetClassifier(noms)\n",
    "    algores.fit(visages, noms)\n",
    "    titre = \"ConvNet\""
   ]
  },
  {
   "cell_type": "code",
   "execution_count": null,
   "metadata": {},
   "outputs": [],
   "source": [
    "cascade_visage = cv2.CascadeClassifier(cv2.data.haarcascades + 'haarcascade_frontalface_default.xml')\n",
    "\n",
    "camera = cv2.VideoCapture(1) # 0 pour 'built-in' caméra, 1 pour caméra externe\n",
    "user = {}\n",
    "test = \"\\n\"\n",
    "setNom = list(set(noms))\n",
    "for i in range(len(setNom)):\n",
    "    user[i] = setNom[i]\n",
    "    test += str(i) + \".\" + setNom[i] + \"\\n\""
   ]
  },
  {
   "cell_type": "code",
   "execution_count": null,
   "metadata": {},
   "outputs": [],
   "source": [
    "numAdmin = list(map(int, input(\"Qui sont admis : \" + test).split()))\n",
    "admin = []\n",
    "for num in numAdmin:\n",
    "    admin.append(user[num])\n",
    "while True:\n",
    "    \n",
    "    ret, trame = camera.read()\n",
    "    if ret == True:\n",
    "        \n",
    "        gris = cv2.cvtColor(trame, cv2.COLOR_BGR2GRAY)\n",
    "        coordonnees_visage = cascade_visage.detectMultiScale(gris, 1.3, 5)\n",
    "\n",
    "        for (x, y, l, h) in coordonnees_visage:\n",
    "            \n",
    "            visage = trame[y:y + h, x:x + l, :]\n",
    "            visage_redimensionne = cv2.resize(visage, (50, 50))\n",
    "            if choix <= 4:\n",
    "                visage_redimensionne = visage_redimensionne.flatten().reshape(1,-1)\n",
    "            elif choix == 5:\n",
    "                visage_redimensionne = visage_redimensionne.reshape(1, 50, 50, 3)\n",
    "            texte = algores.predict(visage_redimensionne)\n",
    "            \n",
    "            if texte[0] == \"Quentin\":\n",
    "                data = texte[0] + \" admis\"\n",
    "                col = (255, 0, 0)\n",
    "            else:\n",
    "                col = (0, 255, 0)\n",
    "                data = texte[0] + \" non admis\"\n",
    "            \n",
    "            cv2.putText(trame, data, (x, y-10), cv2.FONT_HERSHEY_SIMPLEX, 1, (255, 255, 0), 2)\n",
    "            cv2.rectangle(trame, (x, y), (x + l, y + l), (0, 0, 255), 2)\n",
    "\n",
    "        cv2.imshow(titre, trame)\n",
    "        \n",
    "        if cv2.waitKey(1) == 27:\n",
    "            break\n",
    "            \n",
    "    else:\n",
    "        \n",
    "        print(\"erreur\")\n",
    "        break\n",
    "\n",
    "cv2.destroyAllWindows()\n",
    "camera.release()"
   ]
  }
 ],
 "metadata": {
  "language_info": {
   "name": "python"
  }
 },
 "nbformat": 4,
 "nbformat_minor": 2
}
