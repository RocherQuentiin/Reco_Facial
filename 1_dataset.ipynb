{
 "cells": [
  {
   "cell_type": "markdown",
   "id": "0a361880",
   "metadata": {},
   "source": [
    "# Reconnaissance faciale via $k$ plus proches voisins ($k$-NN)\n",
    "\n",
    ">## Partie 1: Dataset"
   ]
  },
  {
   "cell_type": "markdown",
   "id": "9a9f35df",
   "metadata": {},
   "source": [
    "## Librairies"
   ]
  },
  {
   "cell_type": "markdown",
   "id": "d691df55",
   "metadata": {},
   "source": [
    "- La librairie `cv2` permet la détection automatique de visages, entre autres.\n",
    "\n",
    "- La librairie `pickle` permet de sauvegarder vos modèles une fois entraînés, et de les recharger pour pouvoir les utiliser."
   ]
  },
  {
   "cell_type": "code",
   "execution_count": 12,
   "id": "8a41298c",
   "metadata": {
    "ExecuteTime": {
     "end_time": "2024-02-27T09:51:07.875008600Z",
     "start_time": "2024-02-27T09:51:07.826333400Z"
    }
   },
   "outputs": [],
   "source": [
    "import os\n",
    "\n",
    "import cv2\n",
    "import pickle\n",
    "\n",
    "import numpy as np\n",
    "\n",
    "import matplotlib.pyplot as plt"
   ]
  },
  {
   "cell_type": "markdown",
   "id": "2089bbe3",
   "metadata": {},
   "source": [
    "## Création du dataset"
   ]
  },
  {
   "cell_type": "markdown",
   "id": "b0183880",
   "metadata": {},
   "source": [
    "Le code suivant permet de créer un **dataset** d'images que vous utiliserez dans votre projet de **reconnaissance faciale**. Ce dataset contiendra des images de vous-même associées à votre nom ainsi que des images d'autres personnes (par exemple vos camarades) associées à leurs noms. **À chaque fois que vos relancez le code ci-dessous, votre caméra capture 10 images de la personne qui se trouve devant vootre PC et ajoute ces dernières à votre dataset.** \n",
    "\n",
    "Le code effectue les opérations suivantes. Premièrement, on lit le flux vidéo de votre caméra et on détecte automatiquement les visages dans chaque image de ce flux en utilisant le **classificateur en cascade de Haar (Haar cascade classifier)** de la librairie `OpenCV`. \n",
    "\n",
    "Plus précisément, tant que la variable `ret` est vraie, indiquant que le flux vidéo est lu correctement, pour chaque image capturée par la caméras, on effectue les opérations suivantes:\n",
    "1. on convertit l'image en niveaux de gris;\n",
    "2. on détecte les coordonnées du visage en utilisant le classificateur en cascade de Haar;\n",
    "3. on recadre la région du visage et la redimensionne en $50 \\times 50$ pixels;\n",
    "4. on ajoute l'image du visage redimensionné à la liste `donnees_visage`, à chaque intervalle de $10$ images.\n",
    "\n",
    "Une fois que $10$ images de votre visage ont été collecteés, ou si l'utilisateur appuye sur la touche `Esc`, on met fin à la boucle et enregistre les images dans la liste `donnees_visage` sous forme d'un tableau `NumPy`.\n",
    "\n",
    "Par la suite, l'existence des fichiers `noms.pkl` et `visages.pkl` est vérifiée. S'ils n'existent pas, de nouveaux fichiers sont créés, la variable `nom` est enregistrée dans `noms.pkl` et les données de visage sont enregistrées dans `visages.pkl`. Si ces fichiers existent déjà, le code charge les données existantes, ajoute les nouvelles données de visage et noms, et les réenregistre le tout dans ces fichiers."
   ]
  },
  {
   "cell_type": "code",
   "execution_count": 13,
   "id": "1ba3a98f",
   "metadata": {
    "ExecuteTime": {
     "end_time": "2024-02-27T09:53:26.560350500Z",
     "start_time": "2024-02-27T09:51:07.888968500Z"
    }
   },
   "outputs": [],
   "source": [
    "# ================== #\n",
    "# Variables globales #\n",
    "# ================== #\n",
    "if not os.path.exists(\"data\"):\n",
    "    os.mkdir(\"data\")         # création d'un répertoire data\n",
    "\n",
    "nb_images_collectees = 10    # nombre d'image que vous voulez collecter\n",
    "\n",
    "donnees_visage = []\n",
    "\n",
    "camera = cv2.VideoCapture(0) # 0 pour 'built-in' caméra, 1 pour caméra externe\n",
    "\n",
    "cascade_visage = cv2.CascadeClassifier(cv2.data.haarcascades + 'haarcascade_frontalface_default.xml')\n",
    "\n",
    "\n",
    "\n",
    "# =============================== #\n",
    "# Capture des data: nom et images #\n",
    "# =============================== #\n",
    "nom = input(\"Entrez votre nom: \")\n",
    "\n",
    "ret = True\n",
    "i = 0\n",
    "\n",
    "while(ret):\n",
    "    \n",
    "    ret, frame = camera.read()\n",
    "    \n",
    "    if ret == True:\n",
    "        \n",
    "        gris = cv2.cvtColor(frame, cv2.COLOR_BGR2GRAY)\n",
    "\n",
    "        coordonnees_visage = cascade_visage.detectMultiScale(gris, 1.3, 4)\n",
    "\n",
    "        for (a, b, w, h) in coordonnees_visage:\n",
    "            \n",
    "            visages = frame[b:b+h, a:a+w, :]\n",
    "            visages_redimensionnes = cv2.resize(visages, (50, 50))\n",
    "            \n",
    "            if i % 10 == 0 and len(donnees_visage) < nb_images_collectees:\n",
    "                \n",
    "                donnees_visage.append(visages_redimensionnes)\n",
    "                \n",
    "            cv2.rectangle(frame, (a, b), (a+w, b+h), (255, 0, 0), 2)\n",
    "            \n",
    "        i += 1\n",
    "\n",
    "        cv2.imshow('Visages', frame)\n",
    "\n",
    "        if cv2.waitKey(1) == 27 or len(donnees_visage) >= nb_images_collectees:\n",
    "            \n",
    "            break\n",
    "    else:\n",
    "        \n",
    "        print('erreur')\n",
    "        break\n",
    "    \n",
    "\n",
    "cv2.destroyAllWindows()\n",
    "camera.release()\n",
    "\n",
    "donnees_visage = np.asarray(donnees_visage)\n",
    "# donnees_visage = donnees_visage.reshape(10, -1)\n",
    "\n",
    "\n",
    "# ====================================== #\n",
    "# Enregistrement des data: nom et images #\n",
    "# ====================================== #\n",
    "if 'noms.pkl' not in os.listdir('data/'):\n",
    "    \n",
    "    noms = [nom]*10\n",
    "    with open('data/noms.pkl', 'wb') as file:\n",
    "        pickle.dump(noms, file)\n",
    "else:\n",
    "    \n",
    "    with open('data/noms.pkl', 'rb') as file:\n",
    "        noms = pickle.load(file)\n",
    "\n",
    "    noms = noms + [nom]*10\n",
    "    with open('data/noms.pkl', 'wb') as file:\n",
    "        pickle.dump(noms, file)\n",
    "\n",
    "\n",
    "if 'visages.pkl' not in os.listdir('data/'):\n",
    "    \n",
    "    with open('data/visages.pkl', 'wb') as w:\n",
    "        pickle.dump(donnees_visage, w)\n",
    "else:\n",
    "    \n",
    "    with open('data/visages.pkl', 'rb') as w:\n",
    "        visages = pickle.load(w)\n",
    "\n",
    "    visages = np.append(visages, donnees_visage, axis=0)\n",
    "    with open('data/visages.pkl', 'wb') as w:\n",
    "        pickle.dump(visages, w)"
   ]
  },
  {
   "cell_type": "markdown",
   "id": "e3bec3e0",
   "metadata": {},
   "source": [
    "## Visualisation du dataset"
   ]
  },
  {
   "cell_type": "markdown",
   "id": "08df3d2c",
   "metadata": {},
   "source": [
    "Le instructions suivantes permettent de loader votre dataset et de comprendre comment sont stockées les data.\n",
    "\n",
    "Prêtez attention aux types de vos data, en particulier à la dimension de vos images, etc."
   ]
  },
  {
   "cell_type": "code",
   "execution_count": 14,
   "id": "c4c5cd3d",
   "metadata": {
    "ExecuteTime": {
     "end_time": "2024-02-27T09:53:26.605149100Z",
     "start_time": "2024-02-27T09:53:26.561347400Z"
    }
   },
   "outputs": [],
   "source": [
    "with open(\"data/noms.pkl\", \"rb\") as fh:\n",
    "    noms = pickle.load(fh)"
   ]
  },
  {
   "cell_type": "code",
   "execution_count": 15,
   "id": "b3af5a29",
   "metadata": {
    "ExecuteTime": {
     "end_time": "2024-02-27T09:53:26.633072800Z",
     "start_time": "2024-02-27T09:53:26.584042200Z"
    }
   },
   "outputs": [
    {
     "data": {
      "text/plain": "['Quentin (lunettes et casques',\n 'Quentin (lunettes et casques',\n 'Quentin (lunettes et casques',\n 'Quentin (lunettes et casques',\n 'Quentin (lunettes et casques',\n 'Quentin (lunettes et casques',\n 'Quentin (lunettes et casques',\n 'Quentin (lunettes et casques',\n 'Quentin (lunettes et casques',\n 'Quentin (lunettes et casques',\n 'Quentin (lunettes et casque',\n 'Quentin (lunettes et casque',\n 'Quentin (lunettes et casque',\n 'Quentin (lunettes et casque',\n 'Quentin (lunettes et casque',\n 'Quentin (lunettes et casque',\n 'Quentin (lunettes et casque',\n 'Quentin (lunettes et casque',\n 'Quentin (lunettes et casque',\n 'Quentin (lunettes et casque',\n 'Quentin (lunette',\n 'Quentin (lunette',\n 'Quentin (lunette',\n 'Quentin (lunette',\n 'Quentin (lunette',\n 'Quentin (lunette',\n 'Quentin (lunette',\n 'Quentin (lunette',\n 'Quentin (lunette',\n 'Quentin (lunette',\n 'Quentin (lunette',\n 'Quentin (lunette',\n 'Quentin (lunette',\n 'Quentin (lunette',\n 'Quentin (lunette',\n 'Quentin (lunette',\n 'Quentin (lunette',\n 'Quentin (lunette',\n 'Quentin (lunette',\n 'Quentin (lunette',\n 'Quentin',\n 'Quentin',\n 'Quentin',\n 'Quentin',\n 'Quentin',\n 'Quentin',\n 'Quentin',\n 'Quentin',\n 'Quentin',\n 'Quentin',\n 'Quentin',\n 'Quentin',\n 'Quentin',\n 'Quentin',\n 'Quentin',\n 'Quentin',\n 'Quentin',\n 'Quentin',\n 'Quentin',\n 'Quentin',\n 'Quentin',\n 'Quentin',\n 'Quentin',\n 'Quentin',\n 'Quentin',\n 'Quentin',\n 'Quentin',\n 'Quentin',\n 'Quentin',\n 'Quentin',\n 'Enzo',\n 'Enzo',\n 'Enzo',\n 'Enzo',\n 'Enzo',\n 'Enzo',\n 'Enzo',\n 'Enzo',\n 'Enzo',\n 'Enzo',\n 'Enzo',\n 'Enzo',\n 'Enzo',\n 'Enzo',\n 'Enzo',\n 'Enzo',\n 'Enzo',\n 'Enzo',\n 'Enzo',\n 'Enzo',\n 'Orane',\n 'Orane',\n 'Orane',\n 'Orane',\n 'Orane',\n 'Orane',\n 'Orane',\n 'Orane',\n 'Orane',\n 'Orane',\n 'Orane',\n 'Orane',\n 'Orane',\n 'Orane',\n 'Orane',\n 'Orane',\n 'Orane',\n 'Orane',\n 'Orane',\n 'Orane',\n 'Joh',\n 'Joh',\n 'Joh',\n 'Joh',\n 'Joh',\n 'Joh',\n 'Joh',\n 'Joh',\n 'Joh',\n 'Joh',\n 'Joh',\n 'Joh',\n 'Joh',\n 'Joh',\n 'Joh',\n 'Joh',\n 'Joh',\n 'Joh',\n 'Joh',\n 'Joh',\n 'Quentin',\n 'Quentin',\n 'Quentin',\n 'Quentin',\n 'Quentin',\n 'Quentin',\n 'Quentin',\n 'Quentin',\n 'Quentin',\n 'Quentin',\n 'Quentin',\n 'Quentin',\n 'Quentin',\n 'Quentin',\n 'Quentin',\n 'Quentin',\n 'Quentin',\n 'Quentin',\n 'Quentin',\n 'Quentin']"
     },
     "execution_count": 15,
     "metadata": {},
     "output_type": "execute_result"
    }
   ],
   "source": [
    "noms"
   ]
  },
  {
   "cell_type": "code",
   "execution_count": 16,
   "id": "d7fc242c",
   "metadata": {
    "ExecuteTime": {
     "end_time": "2024-02-27T09:53:26.670964500Z",
     "start_time": "2024-02-27T09:53:26.606148300Z"
    }
   },
   "outputs": [],
   "source": [
    "with open(\"data/visages.pkl\", \"rb\") as fh:\n",
    "    visages = pickle.load(fh)"
   ]
  },
  {
   "cell_type": "code",
   "execution_count": 17,
   "id": "10dab6d3",
   "metadata": {
    "ExecuteTime": {
     "end_time": "2024-02-27T09:53:26.673954400Z",
     "start_time": "2024-02-27T09:53:26.638055400Z"
    }
   },
   "outputs": [
    {
     "data": {
      "text/plain": "array([[[[147, 157, 155],\n         [148, 157, 155],\n         [146, 153, 152],\n         ...,\n         [123, 125, 133],\n         [141, 142, 149],\n         [174, 175, 180]],\n\n        [[150, 157, 157],\n         [150, 156, 155],\n         [148, 154, 153],\n         ...,\n         [171, 172, 178],\n         [172, 172, 178],\n         [177, 176, 182]],\n\n        [[148, 152, 154],\n         [149, 153, 154],\n         [150, 154, 155],\n         ...,\n         [173, 175, 180],\n         [174, 176, 180],\n         [175, 177, 182]],\n\n        ...,\n\n        [[ 43,  40,  51],\n         [ 44,  41,  53],\n         [ 41,  37,  49],\n         ...,\n         [142, 136, 143],\n         [146, 143, 149],\n         [148, 147, 150]],\n\n        [[ 43,  40,  48],\n         [ 43,  40,  50],\n         [ 43,  38,  50],\n         ...,\n         [140, 136, 142],\n         [144, 142, 148],\n         [150, 146, 151]],\n\n        [[ 46,  43,  52],\n         [ 44,  41,  49],\n         [ 44,  39,  49],\n         ...,\n         [139, 135, 141],\n         [145, 141, 147],\n         [150, 146, 152]]],\n\n\n       [[[151, 155, 157],\n         [150, 153, 154],\n         [149, 152, 153],\n         ...,\n         [112, 117, 122],\n         [112, 117, 125],\n         [119, 126, 136]],\n\n        [[146, 156, 157],\n         [145, 153, 154],\n         [147, 154, 154],\n         ...,\n         [152, 158, 163],\n         [163, 167, 176],\n         [163, 165, 176]],\n\n        [[145, 157, 158],\n         [144, 154, 155],\n         [143, 151, 152],\n         ...,\n         [164, 169, 175],\n         [164, 169, 175],\n         [169, 171, 178]],\n\n        ...,\n\n        [[ 50,  42,  51],\n         [ 48,  40,  48],\n         [ 49,  41,  49],\n         ...,\n         [136, 127, 137],\n         [138, 131, 140],\n         [143, 138, 146]],\n\n        [[ 46,  41,  49],\n         [ 46,  41,  49],\n         [ 42,  37,  45],\n         ...,\n         [134, 126, 133],\n         [137, 131, 138],\n         [138, 135, 141]],\n\n        [[ 46,  42,  50],\n         [ 48,  42,  52],\n         [ 47,  41,  53],\n         ...,\n         [133, 125, 134],\n         [137, 132, 138],\n         [139, 137, 139]]],\n\n\n       [[[148, 156, 156],\n         [147, 154, 154],\n         [144, 154, 154],\n         ...,\n         [166, 170, 173],\n         [169, 173, 177],\n         [172, 175, 179]],\n\n        [[148, 154, 157],\n         [148, 153, 155],\n         [145, 153, 153],\n         ...,\n         [172, 174, 174],\n         [172, 174, 176],\n         [172, 175, 176]],\n\n        [[149, 156, 159],\n         [144, 151, 153],\n         [144, 151, 151],\n         ...,\n         [171, 171, 171],\n         [172, 174, 174],\n         [175, 178, 179]],\n\n        ...,\n\n        [[ 40,  40,  47],\n         [ 41,  38,  47],\n         [ 43,  40,  50],\n         ...,\n         [139, 130, 141],\n         [143, 134, 144],\n         [145, 136, 143]],\n\n        [[ 40,  38,  45],\n         [ 41,  39,  47],\n         [ 44,  41,  49],\n         ...,\n         [139, 130, 139],\n         [140, 132, 141],\n         [145, 137, 144]],\n\n        [[ 42,  40,  46],\n         [ 43,  41,  48],\n         [ 40,  38,  44],\n         ...,\n         [137, 129, 136],\n         [138, 131, 138],\n         [143, 136, 143]]],\n\n\n       ...,\n\n\n       [[[167, 178, 185],\n         [166, 177, 183],\n         [165, 175, 181],\n         ...,\n         [183, 185, 189],\n         [182, 182, 189],\n         [185, 183, 191]],\n\n        [[168, 179, 188],\n         [166, 176, 185],\n         [166, 176, 183],\n         ...,\n         [167, 166, 169],\n         [190, 188, 193],\n         [190, 188, 195]],\n\n        [[168, 178, 190],\n         [165, 175, 186],\n         [166, 175, 183],\n         ...,\n         [135, 133, 136],\n         [180, 178, 181],\n         [189, 188, 191]],\n\n        ...,\n\n        [[ 87,  72,  92],\n         [ 83,  69,  86],\n         [ 87,  74,  90],\n         ...,\n         [155, 146, 153],\n         [149, 140, 147],\n         [146, 138, 144]],\n\n        [[ 87,  72,  92],\n         [ 87,  73,  91],\n         [ 85,  72,  88],\n         ...,\n         [152, 141, 148],\n         [146, 135, 142],\n         [149, 139, 146]],\n\n        [[ 86,  73,  94],\n         [ 87,  74,  92],\n         [ 84,  71,  89],\n         ...,\n         [149, 138, 142],\n         [152, 141, 145],\n         [150, 141, 144]]],\n\n\n       [[[164, 176, 182],\n         [165, 177, 183],\n         [165, 176, 183],\n         ...,\n         [187, 187, 188],\n         [189, 188, 193],\n         [191, 188, 196]],\n\n        [[168, 180, 186],\n         [168, 179, 185],\n         [166, 178, 184],\n         ...,\n         [159, 159, 160],\n         [182, 182, 185],\n         [187, 185, 191]],\n\n        [[167, 179, 185],\n         [167, 179, 185],\n         [169, 180, 187],\n         ...,\n         [136, 135, 138],\n         [159, 157, 161],\n         [188, 188, 191]],\n\n        ...,\n\n        [[ 78,  76,  94],\n         [ 74,  73,  88],\n         [ 76,  73,  85],\n         ...,\n         [156, 142, 152],\n         [152, 142, 151],\n         [146, 140, 146]],\n\n        [[ 75,  72,  92],\n         [ 75,  72,  88],\n         [ 75,  70,  84],\n         ...,\n         [155, 143, 152],\n         [149, 138, 147],\n         [144, 136, 143]],\n\n        [[ 79,  73,  93],\n         [ 79,  72,  89],\n         [ 79,  71,  86],\n         ...,\n         [155, 145, 153],\n         [151, 141, 149],\n         [148, 139, 145]]],\n\n\n       [[[168, 184, 193],\n         [168, 183, 192],\n         [167, 181, 187],\n         ...,\n         [185, 186, 196],\n         [183, 186, 194],\n         [186, 189, 195]],\n\n        [[167, 184, 193],\n         [166, 183, 192],\n         [170, 183, 192],\n         ...,\n         [189, 185, 194],\n         [189, 186, 195],\n         [188, 189, 196]],\n\n        [[167, 183, 192],\n         [169, 184, 193],\n         [169, 181, 192],\n         ...,\n         [192, 185, 196],\n         [194, 189, 201],\n         [192, 191, 205]],\n\n        ...,\n\n        [[ 87,  75, 118],\n         [ 82,  72, 109],\n         [ 78,  70, 102],\n         ...,\n         [157, 140, 143],\n         [159, 144, 146],\n         [160, 147, 148]],\n\n        [[ 83,  71, 115],\n         [ 83,  71, 110],\n         [ 82,  71, 104],\n         ...,\n         [148, 134, 136],\n         [157, 142, 144],\n         [158, 143, 145]],\n\n        [[ 80,  70, 112],\n         [ 84,  74, 110],\n         [ 85,  75, 104],\n         ...,\n         [148, 135, 137],\n         [152, 138, 140],\n         [153, 138, 140]]]], dtype=uint8)"
     },
     "execution_count": 17,
     "metadata": {},
     "output_type": "execute_result"
    }
   ],
   "source": [
    "visages"
   ]
  },
  {
   "cell_type": "code",
   "execution_count": 18,
   "id": "a8436555",
   "metadata": {
    "ExecuteTime": {
     "end_time": "2024-02-27T09:53:26.697884600Z",
     "start_time": "2024-02-27T09:53:26.658996500Z"
    }
   },
   "outputs": [
    {
     "data": {
      "text/plain": "(150, 50, 50, 3)"
     },
     "execution_count": 18,
     "metadata": {},
     "output_type": "execute_result"
    }
   ],
   "source": [
    "visages.shape"
   ]
  },
  {
   "cell_type": "code",
   "execution_count": 19,
   "id": "1ef19a8e",
   "metadata": {
    "ExecuteTime": {
     "end_time": "2024-02-27T09:53:26.773034600Z",
     "start_time": "2024-02-27T09:53:26.682930400Z"
    }
   },
   "outputs": [
    {
     "data": {
      "text/plain": "(50, 50, 3)"
     },
     "execution_count": 19,
     "metadata": {},
     "output_type": "execute_result"
    }
   ],
   "source": [
    "sample_1 = visages[0]\n",
    "sample_1.shape"
   ]
  },
  {
   "cell_type": "code",
   "execution_count": 20,
   "id": "c3539263",
   "metadata": {
    "ExecuteTime": {
     "end_time": "2024-02-27T09:53:26.976843400Z",
     "start_time": "2024-02-27T09:53:26.717680800Z"
    }
   },
   "outputs": [
    {
     "data": {
      "text/plain": "<matplotlib.image.AxesImage at 0x164027aa550>"
     },
     "execution_count": 20,
     "metadata": {},
     "output_type": "execute_result"
    },
    {
     "data": {
      "text/plain": "<Figure size 640x480 with 1 Axes>",
      "image/png": "[encoded data removed]"
     },
     "metadata": {},
     "output_type": "display_data"
    }
   ],
   "source": [
    "plt.imshow(sample_1, interpolation=\"nearest\")"
   ]
  },
  {
   "cell_type": "code",
   "execution_count": 21,
   "id": "ac4aaef1",
   "metadata": {
    "ExecuteTime": {
     "end_time": "2024-02-27T09:53:26.986813600Z",
     "start_time": "2024-02-27T09:53:26.971730200Z"
    }
   },
   "outputs": [
    {
     "data": {
      "text/plain": "(50, 50, 3)"
     },
     "execution_count": 21,
     "metadata": {},
     "output_type": "execute_result"
    }
   ],
   "source": [
    "sample_2 = visages[5]\n",
    "sample_2.shape"
   ]
  },
  {
   "cell_type": "code",
   "execution_count": 22,
   "id": "ed489bfa",
   "metadata": {
    "ExecuteTime": {
     "end_time": "2024-02-27T09:53:27.198175400Z",
     "start_time": "2024-02-27T09:53:26.983824400Z"
    }
   },
   "outputs": [
    {
     "data": {
      "text/plain": "<matplotlib.image.AxesImage at 0x1640279f710>"
     },
     "execution_count": 22,
     "metadata": {},
     "output_type": "execute_result"
    },
    {
     "data": {
      "text/plain": "<Figure size 640x480 with 1 Axes>",
      "image/png": "[encoded data removed]"
     },
     "metadata": {},
     "output_type": "display_data"
    }
   ],
   "source": [
    "plt.imshow(sample_2, interpolation=\"nearest\")"
   ]
  },
  {
   "cell_type": "code",
   "execution_count": 22,
   "id": "06a26147",
   "metadata": {
    "ExecuteTime": {
     "end_time": "2024-02-27T09:53:27.202163Z",
     "start_time": "2024-02-27T09:53:27.194459900Z"
    }
   },
   "outputs": [],
   "source": []
  }
 ],
 "metadata": {
  "kernelspec": {
   "display_name": "Python 3 (ipykernel)",
   "language": "python",
   "name": "python3"
  },
  "language_info": {
   "codemirror_mode": {
    "name": "ipython",
    "version": 3
   },
   "file_extension": ".py",
   "mimetype": "text/x-python",
   "name": "python",
   "nbconvert_exporter": "python",
   "pygments_lexer": "ipython3",
   "version": "3.12.1"
  }
 },
 "nbformat": 4,
 "nbformat_minor": 5
}
