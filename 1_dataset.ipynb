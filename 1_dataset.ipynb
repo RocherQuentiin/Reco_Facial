{
 "cells": [
  {
   "cell_type": "markdown",
   "id": "0a361880",
   "metadata": {},
   "source": [
    "# Reconnaissance faciale via $k$ plus proches voisins ($k$-NN)\n",
    "\n",
    ">## Partie 1: Dataset"
   ]
  },
  {
   "cell_type": "markdown",
   "id": "9a9f35df",
   "metadata": {},
   "source": [
    "## Librairies"
   ]
  },
  {
   "cell_type": "markdown",
   "id": "d691df55",
   "metadata": {},
   "source": [
    "- La librairie `cv2` permet la détection automatique de visages, entre autres.\n",
    "\n",
    "- La librairie `pickle` permet de sauvegarder vos modèles une fois entraînés, et de les recharger pour pouvoir les utiliser."
   ]
  },
  {
   "cell_type": "code",
   "execution_count": 34,
   "id": "8a41298c",
   "metadata": {
    "ExecuteTime": {
     "end_time": "2024-02-26T11:35:17.723796800Z",
     "start_time": "2024-02-26T11:35:17.618979Z"
    }
   },
   "outputs": [],
   "source": [
    "import os\n",
    "\n",
    "import cv2\n",
    "import pickle\n",
    "\n",
    "import numpy as np\n",
    "\n",
    "import matplotlib.pyplot as plt"
   ]
  },
  {
   "cell_type": "markdown",
   "id": "2089bbe3",
   "metadata": {},
   "source": [
    "## Création du dataset"
   ]
  },
  {
   "cell_type": "markdown",
   "id": "b0183880",
   "metadata": {},
   "source": [
    "Le code suivant permet de créer un **dataset** d'images que vous utiliserez dans votre projet de **reconnaissance faciale**. Ce dataset contiendra des images de vous-même associées à votre nom ainsi que des images d'autres personnes (par exemple vos camarades) associées à leurs noms. **À chaque fois que vos relancez le code ci-dessous, votre caméra capture 10 images de la personne qui se trouve devant vootre PC et ajoute ces dernières à votre dataset.** \n",
    "\n",
    "Le code effectue les opérations suivantes. Premièrement, on lit le flux vidéo de votre caméra et on détecte automatiquement les visages dans chaque image de ce flux en utilisant le **classificateur en cascade de Haar (Haar cascade classifier)** de la librairie `OpenCV`. \n",
    "\n",
    "Plus précisément, tant que la variable `ret` est vraie, indiquant que le flux vidéo est lu correctement, pour chaque image capturée par la caméras, on effectue les opérations suivantes:\n",
    "1. on convertit l'image en niveaux de gris;\n",
    "2. on détecte les coordonnées du visage en utilisant le classificateur en cascade de Haar;\n",
    "3. on recadre la région du visage et la redimensionne en $50 \\times 50$ pixels;\n",
    "4. on ajoute l'image du visage redimensionné à la liste `donnees_visage`, à chaque intervalle de $10$ images.\n",
    "\n",
    "Une fois que $10$ images de votre visage ont été collecteés, ou si l'utilisateur appuye sur la touche `Esc`, on met fin à la boucle et enregistre les images dans la liste `donnees_visage` sous forme d'un tableau `NumPy`.\n",
    "\n",
    "Par la suite, l'existence des fichiers `noms.pkl` et `visages.pkl` est vérifiée. S'ils n'existent pas, de nouveaux fichiers sont créés, la variable `nom` est enregistrée dans `noms.pkl` et les données de visage sont enregistrées dans `visages.pkl`. Si ces fichiers existent déjà, le code charge les données existantes, ajoute les nouvelles données de visage et noms, et les réenregistre le tout dans ces fichiers."
   ]
  },
  {
   "cell_type": "code",
   "execution_count": 35,
   "id": "1ba3a98f",
   "metadata": {
    "ExecuteTime": {
     "end_time": "2024-02-26T11:35:39.139716Z",
     "start_time": "2024-02-26T11:35:17.703850500Z"
    }
   },
   "outputs": [],
   "source": [
    "# ================== #\n",
    "# Variables globales #\n",
    "# ================== #\n",
    "if not os.path.exists(\"data\"):\n",
    "    os.mkdir(\"data\")         # création d'un répertoire data\n",
    "\n",
    "nb_images_collectees = 10    # nombre d'image que vous voulez collecter\n",
    "\n",
    "donnees_visage = []\n",
    "\n",
    "camera = cv2.VideoCapture(0) # 0 pour 'built-in' caméra, 1 pour caméra externe\n",
    "\n",
    "cascade_visage = cv2.CascadeClassifier(cv2.data.haarcascades + 'haarcascade_frontalface_default.xml')\n",
    "\n",
    "\n",
    "\n",
    "# =============================== #\n",
    "# Capture des data: nom et images #\n",
    "# =============================== #\n",
    "nom = input(\"Entrez votre nom: \")\n",
    "\n",
    "ret = True\n",
    "i = 0\n",
    "\n",
    "while(ret):\n",
    "    \n",
    "    ret, frame = camera.read()\n",
    "    \n",
    "    if ret == True:\n",
    "        \n",
    "        gris = cv2.cvtColor(frame, cv2.COLOR_BGR2GRAY)\n",
    "\n",
    "        coordonnees_visage = cascade_visage.detectMultiScale(gris, 1.3, 4)\n",
    "\n",
    "        for (a, b, w, h) in coordonnees_visage:\n",
    "            \n",
    "            visages = frame[b:b+h, a:a+w, :]\n",
    "            visages_redimensionnes = cv2.resize(visages, (50, 50))\n",
    "            \n",
    "            if i % 10 == 0 and len(donnees_visage) < nb_images_collectees:\n",
    "                \n",
    "                donnees_visage.append(visages_redimensionnes)\n",
    "                \n",
    "            cv2.rectangle(frame, (a, b), (a+w, b+h), (255, 0, 0), 2)\n",
    "            \n",
    "        i += 1\n",
    "\n",
    "        cv2.imshow('Visages', frame)\n",
    "\n",
    "        if cv2.waitKey(1) == 27 or len(donnees_visage) >= nb_images_collectees:\n",
    "            \n",
    "            break\n",
    "    else:\n",
    "        \n",
    "        print('erreur')\n",
    "        break\n",
    "    \n",
    "\n",
    "cv2.destroyAllWindows()\n",
    "camera.release()\n",
    "\n",
    "donnees_visage = np.asarray(donnees_visage)\n",
    "# donnees_visage = donnees_visage.reshape(10, -1)\n",
    "\n",
    "\n",
    "# ====================================== #\n",
    "# Enregistrement des data: nom et images #\n",
    "# ====================================== #\n",
    "if 'noms.pkl' not in os.listdir('data/'):\n",
    "    \n",
    "    noms = [nom]*10\n",
    "    with open('data/noms.pkl', 'wb') as file:\n",
    "        pickle.dump(noms, file)\n",
    "else:\n",
    "    \n",
    "    with open('data/noms.pkl', 'rb') as file:\n",
    "        noms = pickle.load(file)\n",
    "\n",
    "    noms = noms + [nom]*10\n",
    "    with open('data/noms.pkl', 'wb') as file:\n",
    "        pickle.dump(noms, file)\n",
    "\n",
    "\n",
    "if 'visages.pkl' not in os.listdir('data/'):\n",
    "    \n",
    "    with open('data/visages.pkl', 'wb') as w:\n",
    "        pickle.dump(donnees_visage, w)\n",
    "else:\n",
    "    \n",
    "    with open('data/visages.pkl', 'rb') as w:\n",
    "        visages = pickle.load(w)\n",
    "\n",
    "    visages = np.append(visages, donnees_visage, axis=0)\n",
    "    with open('data/visages.pkl', 'wb') as w:\n",
    "        pickle.dump(visages, w)"
   ]
  },
  {
   "cell_type": "markdown",
   "id": "e3bec3e0",
   "metadata": {},
   "source": [
    "## Visualisation du dataset"
   ]
  },
  {
   "cell_type": "markdown",
   "id": "08df3d2c",
   "metadata": {},
   "source": [
    "Le instructions suivantes permettent de loader votre dataset et de comprendre comment sont stockées les data.\n",
    "\n",
    "Prêtez attention aux types de vos data, en particulier à la dimension de vos images, etc."
   ]
  },
  {
   "cell_type": "code",
   "execution_count": 36,
   "id": "c4c5cd3d",
   "metadata": {
    "ExecuteTime": {
     "end_time": "2024-02-26T11:35:39.188585Z",
     "start_time": "2024-02-26T11:35:39.143707Z"
    }
   },
   "outputs": [],
   "source": [
    "with open(\"data/noms.pkl\", \"rb\") as fh:\n",
    "    noms = pickle.load(fh)"
   ]
  },
  {
   "cell_type": "code",
   "execution_count": 37,
   "id": "b3af5a29",
   "metadata": {
    "ExecuteTime": {
     "end_time": "2024-02-26T11:35:39.235824400Z",
     "start_time": "2024-02-26T11:35:39.190596100Z"
    }
   },
   "outputs": [
    {
     "data": {
      "text/plain": [
       "['angelo',\n",
       " 'angelo',\n",
       " 'angelo',\n",
       " 'angelo',\n",
       " 'angelo',\n",
       " 'angelo',\n",
       " 'angelo',\n",
       " 'angelo',\n",
       " 'angelo',\n",
       " 'angelo',\n",
       " 'angelo',\n",
       " 'angelo',\n",
       " 'angelo',\n",
       " 'angelo',\n",
       " 'angelo',\n",
       " 'angelo',\n",
       " 'angelo',\n",
       " 'angelo',\n",
       " 'angelo',\n",
       " 'angelo',\n",
       " 'angelo Lunette',\n",
       " 'angelo Lunette',\n",
       " 'angelo Lunette',\n",
       " 'angelo Lunette',\n",
       " 'angelo Lunette',\n",
       " 'angelo Lunette',\n",
       " 'angelo Lunette',\n",
       " 'angelo Lunette',\n",
       " 'angelo Lunette',\n",
       " 'angelo Lunette',\n",
       " 'angelo Lunette',\n",
       " 'angelo Lunette',\n",
       " 'angelo Lunette',\n",
       " 'angelo Lunette',\n",
       " 'angelo Lunette',\n",
       " 'angelo Lunette',\n",
       " 'angelo Lunette',\n",
       " 'angelo Lunette',\n",
       " 'angelo Lunette',\n",
       " 'angelo Lunette']"
      ]
     },
     "execution_count": 37,
     "metadata": {},
     "output_type": "execute_result"
    }
   ],
   "source": [
    "noms"
   ]
  },
  {
   "cell_type": "code",
   "execution_count": 38,
   "id": "d7fc242c",
   "metadata": {
    "ExecuteTime": {
     "end_time": "2024-02-26T11:35:39.299643400Z",
     "start_time": "2024-02-26T11:35:39.233831300Z"
    }
   },
   "outputs": [],
   "source": [
    "with open(\"data/visages.pkl\", \"rb\") as fh:\n",
    "    visages = pickle.load(fh)"
   ]
  },
  {
   "cell_type": "code",
   "execution_count": 39,
   "id": "10dab6d3",
   "metadata": {
    "ExecuteTime": {
     "end_time": "2024-02-26T11:35:39.363226200Z",
     "start_time": "2024-02-26T11:35:39.301639600Z"
    }
   },
   "outputs": [
    {
     "data": {
      "text/plain": [
       "array([[[[149, 169, 186],\n",
       "         [151, 171, 188],\n",
       "         [152, 176, 192],\n",
       "         ...,\n",
       "         [ 78,  67,  83],\n",
       "         [ 73,  63,  76],\n",
       "         [ 72,  60,  69]],\n",
       "\n",
       "        [[149, 168, 185],\n",
       "         [152, 171, 188],\n",
       "         [151, 176, 192],\n",
       "         ...,\n",
       "         [ 81,  74,  91],\n",
       "         [ 81,  72,  88],\n",
       "         [ 73,  66,  76]],\n",
       "\n",
       "        [[148, 169, 185],\n",
       "         [148, 170, 185],\n",
       "         [151, 173, 189],\n",
       "         ...,\n",
       "         [ 80,  73,  93],\n",
       "         [ 78,  72,  89],\n",
       "         [ 75,  71,  86]],\n",
       "\n",
       "        ...,\n",
       "\n",
       "        [[ 44,  47,  58],\n",
       "         [ 36,  39,  40],\n",
       "         [ 26,  29,  29],\n",
       "         ...,\n",
       "         [ 25,  26,  34],\n",
       "         [ 25,  24,  31],\n",
       "         [ 26,  22,  28]],\n",
       "\n",
       "        [[ 28,  30,  34],\n",
       "         [ 23,  26,  24],\n",
       "         [ 21,  25,  24],\n",
       "         ...,\n",
       "         [ 24,  21,  29],\n",
       "         [ 25,  19,  26],\n",
       "         [ 24,  18,  25]],\n",
       "\n",
       "        [[ 30,  25,  27],\n",
       "         [ 26,  23,  25],\n",
       "         [ 26,  25,  28],\n",
       "         ...,\n",
       "         [ 22,  21,  27],\n",
       "         [ 24,  20,  25],\n",
       "         [ 23,  20,  22]]],\n",
       "\n",
       "\n",
       "       [[[156, 175, 189],\n",
       "         [156, 177, 193],\n",
       "         [158, 180, 197],\n",
       "         ...,\n",
       "         [ 64,  48,  55],\n",
       "         [ 71,  52,  58],\n",
       "         [ 71,  52,  58]],\n",
       "\n",
       "        [[154, 174, 191],\n",
       "         [154, 179, 193],\n",
       "         [158, 182, 198],\n",
       "         ...,\n",
       "         [ 66,  51,  52],\n",
       "         [ 63,  50,  51],\n",
       "         [ 65,  51,  53]],\n",
       "\n",
       "        [[153, 173, 190],\n",
       "         [155, 176, 191],\n",
       "         [160, 181, 197],\n",
       "         ...,\n",
       "         [ 66,  49,  56],\n",
       "         [ 61,  49,  51],\n",
       "         [ 63,  50,  52]],\n",
       "\n",
       "        ...,\n",
       "\n",
       "        [[ 28,  27,  30],\n",
       "         [ 24,  23,  26],\n",
       "         [ 24,  23,  25],\n",
       "         ...,\n",
       "         [ 22,  19,  20],\n",
       "         [ 21,  18,  20],\n",
       "         [ 24,  21,  22]],\n",
       "\n",
       "        [[ 26,  26,  26],\n",
       "         [ 25,  25,  25],\n",
       "         [ 26,  25,  26],\n",
       "         ...,\n",
       "         [ 22,  19,  21],\n",
       "         [ 20,  19,  22],\n",
       "         [ 23,  20,  23]],\n",
       "\n",
       "        [[ 25,  21,  22],\n",
       "         [ 23,  24,  24],\n",
       "         [ 26,  26,  26],\n",
       "         ...,\n",
       "         [ 22,  19,  22],\n",
       "         [ 20,  19,  21],\n",
       "         [ 22,  19,  21]]],\n",
       "\n",
       "\n",
       "       [[[158, 178, 195],\n",
       "         [159, 181, 197],\n",
       "         [161, 182, 200],\n",
       "         ...,\n",
       "         [ 72,  53,  63],\n",
       "         [ 66,  47,  54],\n",
       "         [ 65,  48,  51]],\n",
       "\n",
       "        [[159, 178, 195],\n",
       "         [162, 182, 199],\n",
       "         [163, 183, 200],\n",
       "         ...,\n",
       "         [ 75,  57,  68],\n",
       "         [ 71,  53,  57],\n",
       "         [ 66,  49,  52]],\n",
       "\n",
       "        [[157, 178, 195],\n",
       "         [159, 182, 198],\n",
       "         [161, 184, 200],\n",
       "         ...,\n",
       "         [ 75,  62,  80],\n",
       "         [ 71,  55,  68],\n",
       "         [ 66,  50,  59]],\n",
       "\n",
       "        ...,\n",
       "\n",
       "        [[ 31,  30,  33],\n",
       "         [ 28,  26,  28],\n",
       "         [ 26,  24,  24],\n",
       "         ...,\n",
       "         [ 21,  19,  19],\n",
       "         [ 21,  19,  19],\n",
       "         [ 22,  20,  20]],\n",
       "\n",
       "        [[ 27,  26,  29],\n",
       "         [ 26,  24,  26],\n",
       "         [ 28,  23,  26],\n",
       "         ...,\n",
       "         [ 22,  18,  19],\n",
       "         [ 23,  18,  19],\n",
       "         [ 24,  19,  19]],\n",
       "\n",
       "        [[ 27,  26,  28],\n",
       "         [ 25,  22,  24],\n",
       "         [ 27,  22,  24],\n",
       "         ...,\n",
       "         [ 22,  18,  19],\n",
       "         [ 21,  17,  18],\n",
       "         [ 23,  18,  19]]],\n",
       "\n",
       "\n",
       "       ...,\n",
       "\n",
       "\n",
       "       [[[131, 146, 155],\n",
       "         [133, 148, 157],\n",
       "         [134, 148, 160],\n",
       "         ...,\n",
       "         [248, 253, 248],\n",
       "         [251, 252, 248],\n",
       "         [251, 252, 248]],\n",
       "\n",
       "        [[133, 144, 154],\n",
       "         [135, 147, 157],\n",
       "         [135, 148, 160],\n",
       "         ...,\n",
       "         [249, 253, 248],\n",
       "         [251, 252, 248],\n",
       "         [251, 252, 248]],\n",
       "\n",
       "        [[133, 145, 156],\n",
       "         [133, 146, 155],\n",
       "         [134, 149, 158],\n",
       "         ...,\n",
       "         [251, 253, 248],\n",
       "         [250, 253, 248],\n",
       "         [250, 252, 247]],\n",
       "\n",
       "        ...,\n",
       "\n",
       "        [[ 29,  28,  31],\n",
       "         [ 23,  21,  23],\n",
       "         [ 19,  14,  15],\n",
       "         ...,\n",
       "         [ 34,  30,  38],\n",
       "         [ 38,  34,  39],\n",
       "         [ 38,  34,  39]],\n",
       "\n",
       "        [[ 30,  29,  32],\n",
       "         [ 19,  17,  20],\n",
       "         [ 19,  14,  15],\n",
       "         ...,\n",
       "         [ 38,  31,  36],\n",
       "         [ 32,  28,  31],\n",
       "         [ 34,  30,  32]],\n",
       "\n",
       "        [[ 25,  25,  26],\n",
       "         [ 18,  16,  16],\n",
       "         [ 16,  15,  14],\n",
       "         ...,\n",
       "         [ 32,  29,  33],\n",
       "         [ 34,  26,  30],\n",
       "         [ 36,  28,  31]]],\n",
       "\n",
       "\n",
       "       [[[133, 148, 157],\n",
       "         [137, 151, 163],\n",
       "         [145, 158, 170],\n",
       "         ...,\n",
       "         [247, 252, 248],\n",
       "         [215, 191, 187],\n",
       "         [234, 202, 201]],\n",
       "\n",
       "        [[134, 149, 160],\n",
       "         [136, 150, 162],\n",
       "         [143, 157, 169],\n",
       "         ...,\n",
       "         [250, 253, 248],\n",
       "         [215, 183, 182],\n",
       "         [230, 191, 192]],\n",
       "\n",
       "        [[132, 147, 158],\n",
       "         [137, 151, 162],\n",
       "         [144, 158, 169],\n",
       "         ...,\n",
       "         [248, 249, 245],\n",
       "         [195, 172, 170],\n",
       "         [218, 187, 185]],\n",
       "\n",
       "        ...,\n",
       "\n",
       "        [[ 20,  16,  19],\n",
       "         [ 19,  15,  15],\n",
       "         [ 20,  15,  16],\n",
       "         ...,\n",
       "         [ 32,  28,  29],\n",
       "         [ 34,  29,  30],\n",
       "         [ 38,  34,  37]],\n",
       "\n",
       "        [[ 18,  16,  16],\n",
       "         [ 19,  15,  14],\n",
       "         [ 20,  17,  16],\n",
       "         ...,\n",
       "         [ 35,  28,  29],\n",
       "         [ 36,  33,  36],\n",
       "         [ 32,  29,  32]],\n",
       "\n",
       "        [[ 19,  14,  15],\n",
       "         [ 16,  15,  13],\n",
       "         [ 18,  16,  15],\n",
       "         ...,\n",
       "         [ 32,  28,  29],\n",
       "         [ 34,  28,  31],\n",
       "         [ 29,  23,  26]]],\n",
       "\n",
       "\n",
       "       [[[170, 192, 213],\n",
       "         [178, 196, 213],\n",
       "         [207, 218, 224],\n",
       "         ...,\n",
       "         [252, 254, 249],\n",
       "         [238, 238, 235],\n",
       "         [190, 164, 158]],\n",
       "\n",
       "        [[168, 193, 211],\n",
       "         [176, 199, 213],\n",
       "         [198, 214, 220],\n",
       "         ...,\n",
       "         [252, 253, 249],\n",
       "         [238, 232, 229],\n",
       "         [176, 158, 156]],\n",
       "\n",
       "        [[168, 195, 211],\n",
       "         [169, 194, 208],\n",
       "         [170, 190, 203],\n",
       "         ...,\n",
       "         [247, 253, 248],\n",
       "         [232, 225, 222],\n",
       "         [179, 155, 155]],\n",
       "\n",
       "        ...,\n",
       "\n",
       "        [[ 63,  88, 126],\n",
       "         [ 45,  68, 106],\n",
       "         [ 53,  74, 113],\n",
       "         ...,\n",
       "         [ 56,  56,  62],\n",
       "         [ 67,  66,  74],\n",
       "         [101, 106, 110]],\n",
       "\n",
       "        [[ 54,  82, 117],\n",
       "         [ 44,  68, 106],\n",
       "         [ 43,  62, 100],\n",
       "         ...,\n",
       "         [ 52,  50,  55],\n",
       "         [ 58,  59,  63],\n",
       "         [ 86,  87,  92]],\n",
       "\n",
       "        [[ 46,  74, 109],\n",
       "         [ 43,  72, 107],\n",
       "         [ 33,  58,  94],\n",
       "         ...,\n",
       "         [ 50,  49,  53],\n",
       "         [ 54,  55,  59],\n",
       "         [ 81,  75,  77]]]], dtype=uint8)"
      ]
     },
     "execution_count": 39,
     "metadata": {},
     "output_type": "execute_result"
    }
   ],
   "source": [
    "visages"
   ]
  },
  {
   "cell_type": "code",
   "execution_count": 40,
   "id": "a8436555",
   "metadata": {
    "ExecuteTime": {
     "end_time": "2024-02-26T11:35:39.366235Z",
     "start_time": "2024-02-26T11:35:39.332796400Z"
    }
   },
   "outputs": [
    {
     "data": {
      "text/plain": [
       "(40, 50, 50, 3)"
      ]
     },
     "execution_count": 40,
     "metadata": {},
     "output_type": "execute_result"
    }
   ],
   "source": [
    "visages.shape"
   ]
  },
  {
   "cell_type": "code",
   "execution_count": 41,
   "id": "1ef19a8e",
   "metadata": {
    "ExecuteTime": {
     "end_time": "2024-02-26T11:35:39.429683400Z",
     "start_time": "2024-02-26T11:35:39.357243100Z"
    }
   },
   "outputs": [
    {
     "data": {
      "text/plain": [
       "(50, 50, 3)"
      ]
     },
     "execution_count": 41,
     "metadata": {},
     "output_type": "execute_result"
    }
   ],
   "source": [
    "sample_1 = visages[0]\n",
    "sample_1.shape"
   ]
  },
  {
   "cell_type": "code",
   "execution_count": 42,
   "id": "c3539263",
   "metadata": {
    "ExecuteTime": {
     "end_time": "2024-02-26T11:35:39.815547900Z",
     "start_time": "2024-02-26T11:35:39.395771Z"
    }
   },
   "outputs": [
    {
     "data": {
      "text/plain": [
       "<matplotlib.image.AxesImage at 0x1e73053e1e0>"
      ]
     },
     "execution_count": 42,
     "metadata": {},
     "output_type": "execute_result"
    },
    {
     "data": {
      "image/png": "[encoded data removed]",
      "text/plain": [
       "<Figure size 640x480 with 1 Axes>"
      ]
     },
     "metadata": {},
     "output_type": "display_data"
    }
   ],
   "source": [
    "plt.imshow(sample_1, interpolation=\"nearest\")"
   ]
  },
  {
   "cell_type": "code",
   "execution_count": 43,
   "id": "ac4aaef1",
   "metadata": {
    "ExecuteTime": {
     "end_time": "2024-02-26T11:35:39.881752800Z",
     "start_time": "2024-02-26T11:35:39.812554900Z"
    }
   },
   "outputs": [
    {
     "data": {
      "text/plain": [
       "(50, 50, 3)"
      ]
     },
     "execution_count": 43,
     "metadata": {},
     "output_type": "execute_result"
    }
   ],
   "source": [
    "sample_2 = visages[5]\n",
    "sample_2.shape"
   ]
  },
  {
   "cell_type": "code",
   "execution_count": 44,
   "id": "ed489bfa",
   "metadata": {
    "ExecuteTime": {
     "end_time": "2024-02-26T11:35:40.225704Z",
     "start_time": "2024-02-26T11:35:39.834886200Z"
    }
   },
   "outputs": [
    {
     "data": {
      "text/plain": [
       "<matplotlib.image.AxesImage at 0x1e72b808410>"
      ]
     },
     "execution_count": 44,
     "metadata": {},
     "output_type": "execute_result"
    },
    {
     "data": {
      "image/png": "[encoded data removed]",
      "text/plain": [
       "<Figure size 640x480 with 1 Axes>"
      ]
     },
     "metadata": {},
     "output_type": "display_data"
    }
   ],
   "source": [
    "plt.imshow(sample_2, interpolation=\"nearest\")"
   ]
  },
  {
   "cell_type": "code",
   "execution_count": null,
   "id": "06a26147",
   "metadata": {
    "ExecuteTime": {
     "end_time": "2024-02-26T11:35:40.237672200Z",
     "start_time": "2024-02-26T11:35:40.222713100Z"
    }
   },
   "outputs": [],
   "source": []
  }
 ],
 "metadata": {
  "kernelspec": {
   "display_name": "Python 3 (ipykernel)",
   "language": "python",
   "name": "python3"
  },
  "language_info": {
   "codemirror_mode": {
    "name": "ipython",
    "version": 3
   },
   "file_extension": ".py",
   "mimetype": "text/x-python",
   "name": "python",
   "nbconvert_exporter": "python",
   "pygments_lexer": "ipython3",
   "version": "3.12.1"
  }
 },
 "nbformat": 4,
 "nbformat_minor": 5
}
