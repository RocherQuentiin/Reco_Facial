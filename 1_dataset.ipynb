{
 "cells": [
  {
   "cell_type": "markdown",
   "id": "0a361880",
   "metadata": {},
   "source": [
    "# Reconnaissance faciale via $k$ plus proches voisins ($k$-NN)\n",
    "\n",
    ">## Partie 1: Dataset"
   ]
  },
  {
   "cell_type": "markdown",
   "id": "9a9f35df",
   "metadata": {},
   "source": [
    "## Librairies"
   ]
  },
  {
   "cell_type": "markdown",
   "id": "d691df55",
   "metadata": {},
   "source": [
    "- La librairie `cv2` permet la détection automatique de visages, entre autres.\n",
    "\n",
    "- La librairie `pickle` permet de sauvegarder vos modèles une fois entraînés, et de les recharger pour pouvoir les utiliser."
   ]
  },
  {
   "cell_type": "code",
   "execution_count": 1,
   "id": "8a41298c",
   "metadata": {
    "ExecuteTime": {
     "end_time": "2024-02-26T11:35:17.723796800Z",
     "start_time": "2024-02-26T11:35:17.618979Z"
    }
   },
   "outputs": [],
   "source": [
    "import os\n",
    "\n",
    "import cv2\n",
    "import pickle\n",
    "\n",
    "import numpy as np\n",
    "\n",
    "import matplotlib.pyplot as plt"
   ]
  },
  {
   "cell_type": "markdown",
   "id": "2089bbe3",
   "metadata": {},
   "source": [
    "## Création du dataset"
   ]
  },
  {
   "cell_type": "markdown",
   "id": "b0183880",
   "metadata": {},
   "source": [
    "Le code suivant permet de créer un **dataset** d'images que vous utiliserez dans votre projet de **reconnaissance faciale**. Ce dataset contiendra des images de vous-même associées à votre nom ainsi que des images d'autres personnes (par exemple vos camarades) associées à leurs noms. **À chaque fois que vos relancez le code ci-dessous, votre caméra capture 10 images de la personne qui se trouve devant vootre PC et ajoute ces dernières à votre dataset.** \n",
    "\n",
    "Le code effectue les opérations suivantes. Premièrement, on lit le flux vidéo de votre caméra et on détecte automatiquement les visages dans chaque image de ce flux en utilisant le **classificateur en cascade de Haar (Haar cascade classifier)** de la librairie `OpenCV`. \n",
    "\n",
    "Plus précisément, tant que la variable `ret` est vraie, indiquant que le flux vidéo est lu correctement, pour chaque image capturée par la caméras, on effectue les opérations suivantes:\n",
    "1. on convertit l'image en niveaux de gris;\n",
    "2. on détecte les coordonnées du visage en utilisant le classificateur en cascade de Haar;\n",
    "3. on recadre la région du visage et la redimensionne en $50 \\times 50$ pixels;\n",
    "4. on ajoute l'image du visage redimensionné à la liste `donnees_visage`, à chaque intervalle de $10$ images.\n",
    "\n",
    "Une fois que $10$ images de votre visage ont été collecteés, ou si l'utilisateur appuye sur la touche `Esc`, on met fin à la boucle et enregistre les images dans la liste `donnees_visage` sous forme d'un tableau `NumPy`.\n",
    "\n",
    "Par la suite, l'existence des fichiers `noms.pkl` et `visages.pkl` est vérifiée. S'ils n'existent pas, de nouveaux fichiers sont créés, la variable `nom` est enregistrée dans `noms.pkl` et les données de visage sont enregistrées dans `visages.pkl`. Si ces fichiers existent déjà, le code charge les données existantes, ajoute les nouvelles données de visage et noms, et les réenregistre le tout dans ces fichiers."
   ]
  },
  {
   "cell_type": "code",
   "execution_count": 2,
   "id": "1ba3a98f",
   "metadata": {
    "ExecuteTime": {
     "end_time": "2024-02-26T11:35:39.139716Z",
     "start_time": "2024-02-26T11:35:17.703850500Z"
    }
   },
   "outputs": [],
   "source": [
    "# ================== #\n",
    "# Variables globales #\n",
    "# ================== #\n",
    "if not os.path.exists(\"data\"):\n",
    "    os.mkdir(\"data\")         # création d'un répertoire data\n",
    "\n",
    "nb_images_collectees = 10    # nombre d'image que vous voulez collecter\n",
    "\n",
    "donnees_visage = []\n",
    "\n",
    "camera = cv2.VideoCapture(0) # 0 pour 'built-in' caméra, 1 pour caméra externe\n",
    "\n",
    "cascade_visage = cv2.CascadeClassifier(cv2.data.haarcascades + 'haarcascade_frontalface_default.xml')\n",
    "\n",
    "\n",
    "\n",
    "# =============================== #\n",
    "# Capture des data: nom et images #\n",
    "# =============================== #\n",
    "nom = input(\"Entrez votre nom: \")\n",
    "\n",
    "ret = True\n",
    "i = 0\n",
    "\n",
    "while(ret):\n",
    "    \n",
    "    ret, frame = camera.read()\n",
    "    \n",
    "    if ret == True:\n",
    "        \n",
    "        gris = cv2.cvtColor(frame, cv2.COLOR_BGR2GRAY)\n",
    "\n",
    "        coordonnees_visage = cascade_visage.detectMultiScale(gris, 1.3, 4)\n",
    "\n",
    "        for (a, b, w, h) in coordonnees_visage:\n",
    "            \n",
    "            visages = frame[b:b+h, a:a+w, :]\n",
    "            visages_redimensionnes = cv2.resize(visages, (50, 50))\n",
    "            \n",
    "            if i % 10 == 0 and len(donnees_visage) < nb_images_collectees:\n",
    "                \n",
    "                donnees_visage.append(visages_redimensionnes)\n",
    "                \n",
    "            cv2.rectangle(frame, (a, b), (a+w, b+h), (255, 0, 0), 2)\n",
    "            \n",
    "        i += 1\n",
    "\n",
    "        cv2.imshow('Visages', frame)\n",
    "\n",
    "        if cv2.waitKey(1) == 27 or len(donnees_visage) >= nb_images_collectees:\n",
    "            \n",
    "            break\n",
    "    else:\n",
    "        \n",
    "        print('erreur')\n",
    "        break\n",
    "    \n",
    "\n",
    "cv2.destroyAllWindows()\n",
    "camera.release()\n",
    "\n",
    "donnees_visage = np.asarray(donnees_visage)\n",
    "# donnees_visage = donnees_visage.reshape(10, -1)\n",
    "\n",
    "\n",
    "# ====================================== #\n",
    "# Enregistrement des data: nom et images #\n",
    "# ====================================== #\n",
    "if 'noms.pkl' not in os.listdir('data/'):\n",
    "    \n",
    "    noms = [nom]*10\n",
    "    with open('data/noms.pkl', 'wb') as file:\n",
    "        pickle.dump(noms, file)\n",
    "else:\n",
    "    \n",
    "    with open('data/noms.pkl', 'rb') as file:\n",
    "        noms = pickle.load(file)\n",
    "\n",
    "    noms = noms + [nom]*10\n",
    "    with open('data/noms.pkl', 'wb') as file:\n",
    "        pickle.dump(noms, file)\n",
    "\n",
    "\n",
    "if 'visages.pkl' not in os.listdir('data/'):\n",
    "    \n",
    "    with open('data/visages.pkl', 'wb') as w:\n",
    "        pickle.dump(donnees_visage, w)\n",
    "else:\n",
    "    \n",
    "    with open('data/visages.pkl', 'rb') as w:\n",
    "        visages = pickle.load(w)\n",
    "\n",
    "    visages = np.append(visages, donnees_visage, axis=0)\n",
    "    with open('data/visages.pkl', 'wb') as w:\n",
    "        pickle.dump(visages, w)"
   ]
  },
  {
   "cell_type": "markdown",
   "id": "e3bec3e0",
   "metadata": {},
   "source": [
    "## Visualisation du dataset"
   ]
  },
  {
   "cell_type": "markdown",
   "id": "08df3d2c",
   "metadata": {},
   "source": [
    "Le instructions suivantes permettent de loader votre dataset et de comprendre comment sont stockées les data.\n",
    "\n",
    "Prêtez attention aux types de vos data, en particulier à la dimension de vos images, etc."
   ]
  },
  {
   "cell_type": "code",
   "execution_count": 3,
   "id": "c4c5cd3d",
   "metadata": {
    "ExecuteTime": {
     "end_time": "2024-02-26T11:35:39.188585Z",
     "start_time": "2024-02-26T11:35:39.143707Z"
    }
   },
   "outputs": [],
   "source": [
    "with open(\"data/noms.pkl\", \"rb\") as fh:\n",
    "    noms = pickle.load(fh)"
   ]
  },
  {
   "cell_type": "code",
   "execution_count": 4,
   "id": "b3af5a29",
   "metadata": {
    "ExecuteTime": {
     "end_time": "2024-02-26T11:35:39.235824400Z",
     "start_time": "2024-02-26T11:35:39.190596100Z"
    }
   },
   "outputs": [
    {
     "data": {
      "text/plain": [
       "['angelo',\n",
       " 'angelo',\n",
       " 'angelo',\n",
       " 'angelo',\n",
       " 'angelo',\n",
       " 'angelo',\n",
       " 'angelo',\n",
       " 'angelo',\n",
       " 'angelo',\n",
       " 'angelo',\n",
       " 'angelo Lunette',\n",
       " 'angelo Lunette',\n",
       " 'angelo Lunette',\n",
       " 'angelo Lunette',\n",
       " 'angelo Lunette',\n",
       " 'angelo Lunette',\n",
       " 'angelo Lunette',\n",
       " 'angelo Lunette',\n",
       " 'angelo Lunette',\n",
       " 'angelo Lunette']"
      ]
     },
     "execution_count": 4,
     "metadata": {},
     "output_type": "execute_result"
    }
   ],
   "source": [
    "noms"
   ]
  },
  {
   "cell_type": "code",
   "execution_count": 5,
   "id": "d7fc242c",
   "metadata": {
    "ExecuteTime": {
     "end_time": "2024-02-26T11:35:39.299643400Z",
     "start_time": "2024-02-26T11:35:39.233831300Z"
    }
   },
   "outputs": [],
   "source": [
    "with open(\"data/visages.pkl\", \"rb\") as fh:\n",
    "    visages = pickle.load(fh)"
   ]
  },
  {
   "cell_type": "code",
   "execution_count": 6,
   "id": "10dab6d3",
   "metadata": {
    "ExecuteTime": {
     "end_time": "2024-02-26T11:35:39.363226200Z",
     "start_time": "2024-02-26T11:35:39.301639600Z"
    }
   },
   "outputs": [
    {
     "data": {
      "text/plain": [
       "array([[[[120, 119, 117],\n",
       "         [135, 132, 131],\n",
       "         [135, 133, 130],\n",
       "         ...,\n",
       "         [ 90,  74,  87],\n",
       "         [ 89,  72,  81],\n",
       "         [ 89,  71,  76]],\n",
       "\n",
       "        [[126, 126, 122],\n",
       "         [133, 132, 130],\n",
       "         [127, 125, 123],\n",
       "         ...,\n",
       "         [ 96,  81,  91],\n",
       "         [ 90,  73,  82],\n",
       "         [ 82,  65,  68]],\n",
       "\n",
       "        [[128, 128, 124],\n",
       "         [127, 126, 123],\n",
       "         [127, 125, 124],\n",
       "         ...,\n",
       "         [ 95,  85,  94],\n",
       "         [ 93,  77,  89],\n",
       "         [ 82,  64,  73]],\n",
       "\n",
       "        ...,\n",
       "\n",
       "        [[ 24,  21,  22],\n",
       "         [ 29,  25,  30],\n",
       "         [ 33,  33,  38],\n",
       "         ...,\n",
       "         [ 29,  27,  27],\n",
       "         [ 28,  26,  26],\n",
       "         [ 29,  27,  27]],\n",
       "\n",
       "        [[ 21,  19,  20],\n",
       "         [ 24,  20,  25],\n",
       "         [ 29,  28,  34],\n",
       "         ...,\n",
       "         [ 29,  27,  27],\n",
       "         [ 28,  26,  26],\n",
       "         [ 28,  26,  26]],\n",
       "\n",
       "        [[ 21,  18,  19],\n",
       "         [ 25,  21,  26],\n",
       "         [ 29,  28,  34],\n",
       "         ...,\n",
       "         [ 27,  25,  25],\n",
       "         [ 27,  25,  25],\n",
       "         [ 26,  24,  24]]],\n",
       "\n",
       "\n",
       "       [[[251, 251, 255],\n",
       "         [246, 254, 247],\n",
       "         [243, 252, 242],\n",
       "         ...,\n",
       "         [ 84,  73,  72],\n",
       "         [ 86,  75,  77],\n",
       "         [114, 103, 106]],\n",
       "\n",
       "        [[244, 251, 245],\n",
       "         [249, 254, 253],\n",
       "         [160, 163, 161],\n",
       "         ...,\n",
       "         [ 80,  69,  68],\n",
       "         [ 84,  73,  73],\n",
       "         [ 86,  75,  77]],\n",
       "\n",
       "        [[245, 252, 248],\n",
       "         [247, 251, 247],\n",
       "         [121, 122, 118],\n",
       "         ...,\n",
       "         [ 82,  64,  69],\n",
       "         [ 86,  67,  73],\n",
       "         [ 87,  73,  74]],\n",
       "\n",
       "        ...,\n",
       "\n",
       "        [[ 25,  22,  22],\n",
       "         [ 21,  19,  19],\n",
       "         [ 20,  18,  18],\n",
       "         ...,\n",
       "         [ 23,  21,  21],\n",
       "         [ 24,  22,  22],\n",
       "         [ 24,  20,  21]],\n",
       "\n",
       "        [[ 22,  20,  20],\n",
       "         [ 20,  18,  18],\n",
       "         [ 20,  18,  18],\n",
       "         ...,\n",
       "         [ 24,  21,  21],\n",
       "         [ 23,  19,  20],\n",
       "         [ 23,  19,  20]],\n",
       "\n",
       "        [[ 19,  18,  15],\n",
       "         [ 19,  17,  16],\n",
       "         [ 22,  20,  18],\n",
       "         ...,\n",
       "         [ 22,  21,  21],\n",
       "         [ 21,  20,  20],\n",
       "         [ 24,  20,  21]]],\n",
       "\n",
       "\n",
       "       [[[209, 211, 209],\n",
       "         [113, 113, 109],\n",
       "         [134, 134, 130],\n",
       "         ...,\n",
       "         [ 89,  75,  86],\n",
       "         [ 88,  72,  79],\n",
       "         [ 88,  67,  73]],\n",
       "\n",
       "        [[212, 214, 209],\n",
       "         [123, 122, 118],\n",
       "         [132, 130, 129],\n",
       "         ...,\n",
       "         [ 96,  83,  92],\n",
       "         [ 91,  77,  83],\n",
       "         [ 84,  68,  72]],\n",
       "\n",
       "        [[214, 215, 211],\n",
       "         [128, 128, 124],\n",
       "         [119, 121, 119],\n",
       "         ...,\n",
       "         [ 91,  83,  96],\n",
       "         [ 86,  74,  83],\n",
       "         [ 84,  69,  73]],\n",
       "\n",
       "        ...,\n",
       "\n",
       "        [[ 21,  21,  21],\n",
       "         [ 20,  20,  20],\n",
       "         [ 21,  22,  25],\n",
       "         ...,\n",
       "         [ 28,  26,  26],\n",
       "         [ 27,  25,  25],\n",
       "         [ 26,  24,  24]],\n",
       "\n",
       "        [[ 20,  18,  16],\n",
       "         [ 20,  21,  18],\n",
       "         [ 22,  22,  23],\n",
       "         ...,\n",
       "         [ 28,  26,  26],\n",
       "         [ 27,  25,  25],\n",
       "         [ 24,  22,  22]],\n",
       "\n",
       "        [[ 21,  18,  17],\n",
       "         [ 21,  19,  18],\n",
       "         [ 24,  21,  22],\n",
       "         ...,\n",
       "         [ 27,  25,  25],\n",
       "         [ 26,  24,  24],\n",
       "         [ 24,  22,  22]]],\n",
       "\n",
       "\n",
       "       ...,\n",
       "\n",
       "\n",
       "       [[[147, 155, 162],\n",
       "         [149, 157, 163],\n",
       "         [155, 163, 170],\n",
       "         ...,\n",
       "         [251, 252, 248],\n",
       "         [251, 252, 248],\n",
       "         [251, 252, 248]],\n",
       "\n",
       "        [[145, 155, 161],\n",
       "         [156, 164, 171],\n",
       "         [158, 167, 173],\n",
       "         ...,\n",
       "         [251, 252, 248],\n",
       "         [251, 252, 248],\n",
       "         [251, 252, 248]],\n",
       "\n",
       "        [[150, 160, 168],\n",
       "         [153, 163, 170],\n",
       "         [156, 165, 172],\n",
       "         ...,\n",
       "         [251, 252, 248],\n",
       "         [251, 252, 248],\n",
       "         [251, 252, 248]],\n",
       "\n",
       "        ...,\n",
       "\n",
       "        [[ 97, 103, 112],\n",
       "         [115, 123, 134],\n",
       "         [135, 148, 167],\n",
       "         ...,\n",
       "         [ 49,  38,  40],\n",
       "         [ 49,  36,  38],\n",
       "         [ 49,  36,  37]],\n",
       "\n",
       "        [[101, 107, 117],\n",
       "         [117, 128, 142],\n",
       "         [133, 146, 168],\n",
       "         ...,\n",
       "         [ 46,  35,  37],\n",
       "         [ 45,  33,  35],\n",
       "         [ 48,  36,  38]],\n",
       "\n",
       "        [[ 99, 104, 119],\n",
       "         [117, 129, 151],\n",
       "         [130, 147, 172],\n",
       "         ...,\n",
       "         [ 43,  34,  36],\n",
       "         [ 46,  36,  38],\n",
       "         [ 50,  39,  41]]],\n",
       "\n",
       "\n",
       "       [[[159, 168, 179],\n",
       "         [161, 172, 184],\n",
       "         [163, 177, 189],\n",
       "         ...,\n",
       "         [153, 135, 131],\n",
       "         [158, 140, 134],\n",
       "         [169, 153, 147]],\n",
       "\n",
       "        [[159, 168, 178],\n",
       "         [161, 173, 184],\n",
       "         [166, 180, 192],\n",
       "         ...,\n",
       "         [146, 127, 126],\n",
       "         [150, 130, 128],\n",
       "         [158, 142, 136]],\n",
       "\n",
       "        [[158, 167, 178],\n",
       "         [160, 172, 182],\n",
       "         [167, 183, 193],\n",
       "         ...,\n",
       "         [142, 122, 125],\n",
       "         [143, 121, 123],\n",
       "         [145, 127, 126]],\n",
       "\n",
       "        ...,\n",
       "\n",
       "        [[115, 129, 152],\n",
       "         [ 83, 104, 135],\n",
       "         [ 97, 122, 158],\n",
       "         ...,\n",
       "         [ 51,  38,  40],\n",
       "         [ 52,  39,  41],\n",
       "         [ 51,  41,  40]],\n",
       "\n",
       "        [[117, 132, 157],\n",
       "         [ 90, 107, 141],\n",
       "         [111, 132, 170],\n",
       "         ...,\n",
       "         [ 52,  38,  42],\n",
       "         [ 53,  40,  42],\n",
       "         [ 54,  41,  43]],\n",
       "\n",
       "        [[126, 140, 166],\n",
       "         [111, 128, 162],\n",
       "         [105, 127, 163],\n",
       "         ...,\n",
       "         [ 50,  39,  42],\n",
       "         [ 47,  36,  38],\n",
       "         [ 50,  39,  41]]],\n",
       "\n",
       "\n",
       "       [[[ 89, 109, 129],\n",
       "         [ 62,  79, 100],\n",
       "         [ 61,  72,  94],\n",
       "         ...,\n",
       "         [253, 251, 247],\n",
       "         [251, 252, 248],\n",
       "         [251, 253, 248]],\n",
       "\n",
       "        [[ 61,  80, 101],\n",
       "         [ 68,  83, 105],\n",
       "         [ 65,  75,  98],\n",
       "         ...,\n",
       "         [248, 245, 240],\n",
       "         [248, 252, 247],\n",
       "         [249, 253, 248]],\n",
       "\n",
       "        [[ 61,  81, 102],\n",
       "         [ 63,  82, 103],\n",
       "         [ 64,  79, 101],\n",
       "         ...,\n",
       "         [218, 209, 205],\n",
       "         [252, 251, 247],\n",
       "         [251, 252, 248]],\n",
       "\n",
       "        ...,\n",
       "\n",
       "        [[ 58,  85, 125],\n",
       "         [ 59,  82, 120],\n",
       "         [ 63,  83, 119],\n",
       "         ...,\n",
       "         [ 47,  36,  38],\n",
       "         [ 46,  36,  38],\n",
       "         [ 49,  37,  39]],\n",
       "\n",
       "        [[ 62,  87, 126],\n",
       "         [ 59,  84, 124],\n",
       "         [ 60,  85, 121],\n",
       "         ...,\n",
       "         [ 45,  37,  38],\n",
       "         [ 47,  36,  38],\n",
       "         [ 48,  37,  39]],\n",
       "\n",
       "        [[ 65,  90, 132],\n",
       "         [ 49,  71, 115],\n",
       "         [ 63,  85, 126],\n",
       "         ...,\n",
       "         [ 45,  37,  38],\n",
       "         [ 47,  39,  40],\n",
       "         [ 47,  37,  39]]]], dtype=uint8)"
      ]
     },
     "execution_count": 6,
     "metadata": {},
     "output_type": "execute_result"
    }
   ],
   "source": [
    "visages"
   ]
  },
  {
   "cell_type": "code",
   "execution_count": 7,
   "id": "a8436555",
   "metadata": {
    "ExecuteTime": {
     "end_time": "2024-02-26T11:35:39.366235Z",
     "start_time": "2024-02-26T11:35:39.332796400Z"
    }
   },
   "outputs": [
    {
     "data": {
      "text/plain": [
       "(20, 50, 50, 3)"
      ]
     },
     "execution_count": 7,
     "metadata": {},
     "output_type": "execute_result"
    }
   ],
   "source": [
    "visages.shape"
   ]
  },
  {
   "cell_type": "code",
   "execution_count": 8,
   "id": "1ef19a8e",
   "metadata": {
    "ExecuteTime": {
     "end_time": "2024-02-26T11:35:39.429683400Z",
     "start_time": "2024-02-26T11:35:39.357243100Z"
    }
   },
   "outputs": [
    {
     "data": {
      "text/plain": [
       "(50, 50, 3)"
      ]
     },
     "execution_count": 8,
     "metadata": {},
     "output_type": "execute_result"
    }
   ],
   "source": [
    "sample_1 = visages[0]\n",
    "sample_1.shape"
   ]
  },
  {
   "cell_type": "code",
   "execution_count": 9,
   "id": "c3539263",
   "metadata": {
    "ExecuteTime": {
     "end_time": "2024-02-26T11:35:39.815547900Z",
     "start_time": "2024-02-26T11:35:39.395771Z"
    }
   },
   "outputs": [
    {
     "data": {
      "text/plain": [
       "<matplotlib.image.AxesImage at 0x1b199b9c5c0>"
      ]
     },
     "execution_count": 9,
     "metadata": {},
     "output_type": "execute_result"
    },
    {
     "data": {
      "image/png": "[encoded data removed]",
      "text/plain": [
       "<Figure size 640x480 with 1 Axes>"
      ]
     },
     "metadata": {},
     "output_type": "display_data"
    }
   ],
   "source": [
    "plt.imshow(sample_1, interpolation=\"nearest\")"
   ]
  },
  {
   "cell_type": "code",
   "execution_count": 10,
   "id": "ac4aaef1",
   "metadata": {
    "ExecuteTime": {
     "end_time": "2024-02-26T11:35:39.881752800Z",
     "start_time": "2024-02-26T11:35:39.812554900Z"
    }
   },
   "outputs": [
    {
     "data": {
      "text/plain": [
       "(50, 50, 3)"
      ]
     },
     "execution_count": 10,
     "metadata": {},
     "output_type": "execute_result"
    }
   ],
   "source": [
    "sample_2 = visages[5]\n",
    "sample_2.shape"
   ]
  },
  {
   "cell_type": "code",
   "execution_count": 11,
   "id": "ed489bfa",
   "metadata": {
    "ExecuteTime": {
     "end_time": "2024-02-26T11:35:40.225704Z",
     "start_time": "2024-02-26T11:35:39.834886200Z"
    }
   },
   "outputs": [
    {
     "data": {
      "text/plain": [
       "<matplotlib.image.AxesImage at 0x1b1999b5b20>"
      ]
     },
     "execution_count": 11,
     "metadata": {},
     "output_type": "execute_result"
    },
    {
     "data": {
      "image/png": "[encoded data removed]",
      "text/plain": [
       "<Figure size 640x480 with 1 Axes>"
      ]
     },
     "metadata": {},
     "output_type": "display_data"
    }
   ],
   "source": [
    "plt.imshow(sample_2, interpolation=\"nearest\")"
   ]
  },
  {
   "cell_type": "code",
   "execution_count": null,
   "id": "06a26147",
   "metadata": {
    "ExecuteTime": {
     "end_time": "2024-02-26T11:35:40.237672200Z",
     "start_time": "2024-02-26T11:35:40.222713100Z"
    }
   },
   "outputs": [],
   "source": []
  }
 ],
 "metadata": {
  "kernelspec": {
   "display_name": "Python 3 (ipykernel)",
   "language": "python",
   "name": "python3"
  },
  "language_info": {
   "codemirror_mode": {
    "name": "ipython",
    "version": 3
   },
   "file_extension": ".py",
   "mimetype": "text/x-python",
   "name": "python",
   "nbconvert_exporter": "python",
   "pygments_lexer": "ipython3",
   "version": "3.12.1"
  }
 },
 "nbformat": 4,
 "nbformat_minor": 5
}
